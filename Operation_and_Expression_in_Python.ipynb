{
  "nbformat": 4,
  "nbformat_minor": 0,
  "metadata": {
    "colab": {
      "name": "Operation and Expression in Python.ipynb",
      "provenance": [],
      "collapsed_sections": [],
      "authorship_tag": "ABX9TyM18owTXHM7VKNiwPFdX/ng",
      "include_colab_link": true
    },
    "kernelspec": {
      "name": "python3",
      "display_name": "Python 3"
    },
    "language_info": {
      "name": "python"
    }
  },
  "cells": [
    {
      "cell_type": "markdown",
      "metadata": {
        "id": "view-in-github",
        "colab_type": "text"
      },
      "source": [
        "<a href=\"https://colab.research.google.com/github/Alt-eisen/Elective1-3/blob/main/Operation_and_Expression_in_Python.ipynb\" target=\"_parent\"><img src=\"https://colab.research.google.com/assets/colab-badge.svg\" alt=\"Open In Colab\"/></a>"
      ]
    },
    {
      "cell_type": "markdown",
      "source": [
        "APPLICATION #1"
      ],
      "metadata": {
        "id": "uCIpdzF73dPD"
      }
    },
    {
      "cell_type": "code",
      "execution_count": 2,
      "metadata": {
        "colab": {
          "base_uri": "https://localhost:8080/"
        },
        "id": "ntAkZ8Zo0Jds",
        "outputId": "b1890f1f-50a3-4df6-85ea-f8afd797d7ac"
      },
      "outputs": [
        {
          "output_type": "stream",
          "name": "stdout",
          "text": [
            "False\n",
            "False\n"
          ]
        }
      ],
      "source": [
        "a = 6\n",
        "b = 7\n",
        "\n",
        "print (a==b)\n",
        "print (a!=a)"
      ]
    },
    {
      "cell_type": "markdown",
      "source": [
        "APPLICATION #2"
      ],
      "metadata": {
        "id": "kOOSgBlE9qwy"
      }
    },
    {
      "cell_type": "code",
      "source": [
        ""
      ],
      "metadata": {
        "id": "UVZ659PL9voK"
      },
      "execution_count": null,
      "outputs": []
    }
  ]
}